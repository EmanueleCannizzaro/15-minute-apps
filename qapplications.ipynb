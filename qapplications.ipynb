{
 "cells": [
  {
   "cell_type": "code",
   "execution_count": null,
   "metadata": {},
   "outputs": [],
   "source": []
  },
  {
   "cell_type": "code",
   "execution_count": null,
   "metadata": {},
   "outputs": [],
   "source": [
    "import sys\n",
    "\n",
    "from PySide2.QtWidgets import QApplication"
   ]
  },
  {
   "cell_type": "markdown",
   "metadata": {},
   "source": [
    "## Browser"
   ]
  },
  {
   "cell_type": "code",
   "execution_count": null,
   "metadata": {},
   "outputs": [],
   "source": [
    "from pyside2_tutorial.browser import MainWindow\n",
    "\n",
    "app = QApplication(sys.argv)\n",
    "app.setApplicationName(\"MooseAche\")\n",
    "app.setOrganizationName(\"MooseAche\")\n",
    "app.setOrganizationDomain(\"MooseAche.org\")\n",
    "window = MainWindow()\n",
    "app.exec_()\n"
   ]
  },
  {
   "cell_type": "code",
   "execution_count": null,
   "metadata": {},
   "outputs": [],
   "source": []
  },
  {
   "cell_type": "code",
   "execution_count": null,
   "metadata": {},
   "outputs": [],
   "source": [
    "from pyside2_tutorial.browser_tabbed import MainWindow\n",
    "\n",
    "app = QApplication(sys.argv)\n",
    "app.setApplicationName(\"MooseAche\")\n",
    "app.setOrganizationName(\"MooseAche\")\n",
    "app.setOrganizationDomain(\"MooseAche.org\")\n",
    "window = MainWindow()\n",
    "app.exec_()"
   ]
  },
  {
   "cell_type": "code",
   "execution_count": null,
   "metadata": {},
   "outputs": [],
   "source": []
  }
 ],
 "metadata": {
  "kernelspec": {
   "display_name": "",
   "name": ""
  },
  "language_info": {
   "name": ""
  }
 },
 "nbformat": 4,
 "nbformat_minor": 4
}
